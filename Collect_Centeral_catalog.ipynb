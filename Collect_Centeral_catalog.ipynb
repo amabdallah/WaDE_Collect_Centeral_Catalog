{
 "cells": [
  {
   "cell_type": "markdown",
   "metadata": {},
   "source": [
    "# Collect Central catalog end points"
   ]
  },
  {
   "cell_type": "code",
   "execution_count": null,
   "metadata": {
    "collapsed": false
   },
   "outputs": [],
   "source": [
    "# Import libraries \n",
    "import urllib2\n",
    "import requests\n",
    "import xml.etree.ElementTree as ET\n",
    "import pandas as pd\n",
    "from IPython.display import display\n",
    "\n",
    "print 'done'"
   ]
  },
  {
   "cell_type": "code",
   "execution_count": 45,
   "metadata": {
    "collapsed": false
   },
   "outputs": [
    {
     "name": "stdout",
     "output_type": "stream",
     "text": [
      "done\n"
     ]
    }
   ],
   "source": [
    "\n",
    "States={\n",
    "\n",
    "\"ADWR\":'http://www.arizonawade.com/WADE/v0.2/GetCatalog/GetCatalog_GetAll.php?orgid=ADWR',\n",
    "\n",
    "\"CA_DWR\":'http://wade.sdsc.edu/WADE/v0.2/GetCatalog/GetCatalog_GetAll.php?orgid=CA-DWR',\n",
    "    \n",
    "\"CODWR\":\"http://www.westernstateswater.org/Colorado/WADE/v0.2/GetCatalog/GetCatalog_GetAll.php?orgid=CODWR\",\n",
    "    \n",
    "\"UTWRE\":\"http://www.water.utah.gov/DWRE/WADE/v0.2/GetCatalog/GetCatalog_GetAll.php?orgid=utwre\",   \n",
    "\n",
    "\"UTDWRT\":\"http://www.water.utah.gov/DWRT/WADE/v0.2/GetCatalog/GetCatalog_GetAll.php?orgid=UTDWRT\",\n",
    "\n",
    "\"IDWR\":\"http://www.westernstateswater.org/Idaho/WADE/v0.2/GetCatalog/GetCatalog_GetAll.php?orgid=IDWR\",    \n",
    "    \n",
    "\"WYWDC\":\"http://www.westernstateswater.org/Wyoming/WADE/v0.2/GetCatalog/GetCatalog_GetAll.php?orgid=WYWDC\",\n",
    "    \n",
    "\"WYSEO\":\"http://www.westernstateswater.org/WYSEO/WADE/v0.2/GetCatalog/GetCatalog_GetAll.php?orgid=WYSEO\"\n",
    "\n",
    "    \n",
    "}\n",
    "\n",
    "print 'done'\n"
   ]
  },
  {
   "cell_type": "code",
   "execution_count": 46,
   "metadata": {
    "collapsed": false
   },
   "outputs": [],
   "source": [
    "xml_data_all={}\n",
    "\n",
    "for state, URL in States.items():\n",
    "        \n",
    "    xml_data=requests.get(URL).content\n",
    "    \n",
    "    xml_data_all[state] = xml_data\n",
    "    \n",
    "    \n",
    "# print xml_data_all"
   ]
  },
  {
   "cell_type": "code",
   "execution_count": null,
   "metadata": {
    "collapsed": true
   },
   "outputs": [],
   "source": []
  },
  {
   "cell_type": "code",
   "execution_count": 47,
   "metadata": {
    "collapsed": false
   },
   "outputs": [
    {
     "name": "stdout",
     "output_type": "stream",
     "text": [
      "done\n"
     ]
    }
   ],
   "source": [
    "\n",
    "\n",
    "class XML2DataFrame:\n",
    "\n",
    "    def __init__(self, xml_data):\n",
    "        self.root = ET.XML(xml_data)\n",
    "\n",
    "    def parse_root(self, root):\n",
    "        return [self.parse_element(child) for child in iter(root)]\n",
    "\n",
    "    def parse_element(self, element, parsed=None):\n",
    "        if parsed is None:\n",
    "            parsed = dict()\n",
    "        for key in element.keys():\n",
    "            parsed[key] = element.attrib.get(key)\n",
    "        if element.text:\n",
    "            parsed[element.tag] = element.text\n",
    "        for child in list(element):\n",
    "            self.parse_element(child, parsed)\n",
    "        return parsed\n",
    "\n",
    "    def process_data(self):\n",
    "        structure_data = self.parse_root(self.root)\n",
    "        return pd.DataFrame(structure_data)\n",
    "\n",
    "big_data_frame = []\n",
    "for key in xml_data_all.keys():\n",
    "    xml_data = xml_data_all[key]\n",
    "    xml2df = XML2DataFrame(xml_data)\n",
    "    xml_dataframe = xml2df.process_data()\n",
    "\n",
    "    # display (xml_dataframe)\n",
    "\n",
    "    xml_dataframe.columns = xml_dataframe.columns.str.replace(\"{http://www.exchangenetwork.net/schema/WaDE/0.2}\", '')\n",
    "    x=xml_dataframe.keys()\n",
    "    \n",
    "#     if not big_data_frame.empty:\n",
    "#         print big_data_frame\n",
    "#         big_data_frame.append(xml_dataframe)\n",
    "#     else: \n",
    "#         print xml_dataframe\n",
    "    big_data_frame.append(xml_dataframe)\n",
    "\n",
    "total_frame = pd.concat(big_data_frame)\n",
    "\n",
    "total_frame.to_csv('a.csv', index = False)\n",
    "print 'done'"
   ]
  },
  {
   "cell_type": "code",
   "execution_count": null,
   "metadata": {
    "collapsed": true
   },
   "outputs": [],
   "source": []
  },
  {
   "cell_type": "code",
   "execution_count": null,
   "metadata": {
    "collapsed": true
   },
   "outputs": [],
   "source": []
  },
  {
   "cell_type": "code",
   "execution_count": null,
   "metadata": {
    "collapsed": true
   },
   "outputs": [],
   "source": []
  }
 ],
 "metadata": {
  "kernelspec": {
   "display_name": "Python 2",
   "language": "python",
   "name": "python2"
  },
  "language_info": {
   "codemirror_mode": {
    "name": "ipython",
    "version": 2
   },
   "file_extension": ".py",
   "mimetype": "text/x-python",
   "name": "python",
   "nbconvert_exporter": "python",
   "pygments_lexer": "ipython2",
   "version": "2.7.13"
  }
 },
 "nbformat": 4,
 "nbformat_minor": 2
}
