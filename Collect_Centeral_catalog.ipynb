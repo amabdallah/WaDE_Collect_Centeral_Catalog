{
 "cells": [
  {
   "cell_type": "markdown",
   "metadata": {},
   "source": [
    "# Collect Central catalog end points"
   ]
  },
  {
   "cell_type": "code",
   "execution_count": 2,
   "metadata": {},
   "outputs": [
    {
     "name": "stdout",
     "output_type": "stream",
     "text": [
      "done\n"
     ]
    }
   ],
   "source": [
    "# Import libraries \n",
    "import urllib2\n",
    "import requests\n",
    "import xml.etree.ElementTree as ET\n",
    "import pandas as pd\n",
    "from IPython.display import display\n",
    "from collections import OrderedDict\n",
    "\n",
    "print 'done'"
   ]
  },
  {
   "cell_type": "markdown",
   "metadata": {},
   "source": [
    "# Prepare the output table "
   ]
  },
  {
   "cell_type": "code",
   "execution_count": 3,
   "metadata": {},
   "outputs": [
    {
     "name": "stdout",
     "output_type": "stream",
     "text": [
      "['CountFIPS', 'DataCategory', 'DataType', 'HUC', 'OrganizationIdentifier', 'ReportIdentifier', 'ReportUnitIdentifier', 'ReportUnitName', 'State', 'WaDEURLAddress']\n"
     ]
    }
   ],
   "source": [
    "\n",
    "CATALOG_SUMMARY_MV_merge_keys=['CountFIPS','DataCategory','DataType','HUC','OrganizationIdentifier','ReportIdentifier',\n",
    "'ReportUnitIdentifier','ReportUnitName','State','WaDEURLAddress']\n",
    "\n",
    "print CATALOG_SUMMARY_MV_merge_keys"
   ]
  },
  {
   "cell_type": "code",
   "execution_count": null,
   "metadata": {},
   "outputs": [],
   "source": []
  },
  {
   "cell_type": "code",
   "execution_count": 4,
   "metadata": {},
   "outputs": [
    {
     "name": "stdout",
     "output_type": "stream",
     "text": [
      "done\n"
     ]
    }
   ],
   "source": [
    "# CentralCatalog=\"http://www.westernstateswater.org/Idaho/WADE/v0.2/GetCatalog/GetCatalog_GetAll.php?\"\n",
    "\n",
    "\n",
    "States={\n",
    "\n",
    "\"ADWR\":'http://www.arizonawade.com/WADE/v0.2/GetCatalog/GetCatalog_GetAll.php?orgid=ADWR', # Arizona\n",
    "\n",
    "    \n",
    "\"CA_DWR\":'http://wade.sdsc.edu/WADE/v0.2/GetCatalog/GetCatalog_GetAll.php?orgid=CA-DWR', # California\n",
    "    \n",
    "    \n",
    "\"CODWR\":\"http://www.westernstateswater.org/Colorado/WADE/v0.2/GetCatalog/GetCatalog_GetAll.php?orgid=CODWR\", #COLORADO\n",
    "\n",
    "    \n",
    "\"IDWR\":\"http://www.westernstateswater.org/Idaho/WADE/v0.2/GetCatalog/GetCatalog_GetAll.php?orgid=IDWR\",  #  IDAHO \n",
    "\n",
    "    \n",
    "\"KS_KDA\": \"http://wade.kda.ks.gov/WADE/v0.2/GetCatalog/GetCatalog_GetAll.php?orgid=KS-KDA\", # KANSAS\n",
    "    \n",
    "\n",
    "\"NeDNR\": \"http://www.westernstateswater.org/Nebraska/WADE/v0.2/GetCatalog/GetCatalog_GetAll.php?orgid=NeDNR\", #NEBRASKA\n",
    "    \n",
    "    \n",
    "\"NDWR\":\"http://wade.water.nv.gov/WADE/v0.2/GetCatalog/GetCatalog_GetAll.php?orgid=NDWR\", #NEVADA   \n",
    "   \n",
    "    \n",
    "\"NMOSE\":\"http://www.westernstateswater.org/NewMexico/WADE/v0.2/GetCatalog/GetCatalog_GetAll.php?orgid=NMOSE\", # NEW MEXICO\n",
    "  \n",
    "        \n",
    "\"OWRD\":\"http://data.owrb.ok.gov:8080/WADE/v0.2/GetCatalog/GetCatalog_GetAll.php?orgid=OWRD\", #OKLAHOMA \n",
    "  \n",
    "\n",
    "\"OREGON_WRD\":\"http://wade.wrd.state.or.us/WADE/v0.2/GetCatalog/GetCatalog_GetAll.php?orgid=OREGON-WRD\"  , #OREGON \n",
    "   \n",
    "\n",
    "\"DENR\":\"http://www.westernstateswater.org/SouthDakota/WADE/v0.2/GetCatalog/GetCatalog_GetAll.php?orgid=DENR\", #SOUTH DAKOTA\n",
    "    \n",
    "       \n",
    "\"UTWRE\":\"http://www.water.utah.gov/DWRE/WADE/v0.2/GetCatalog/GetCatalog_GetAll.php?orgid=utwre\",   # UTAH: water rights\n",
    "    \n",
    "\n",
    "\"UTDWRT\":\"http://www.water.utah.gov/DWRT/WADE/v0.2/GetCatalog/GetCatalog_GetAll.php?orgid=UTDWRT\", # UTAH: water resources\n",
    "\n",
    "    \n",
    "\"TCEQ\":\"http://www.westernstateswater.org/TCEQ/WADE/v0.2/GetCatalog/GetCatalog_GetAll.php?orgid=TCEQ\", #TEXAS\n",
    "       \n",
    "    \n",
    "\"WYWDC\":\"http://www.westernstateswater.org/Wyoming/WADE/v0.2/GetCatalog/GetCatalog_GetAll.php?orgid=WYWDC\", #WYOMING\n",
    "    \n",
    "    \n",
    "\"WYSEO\":\"http://www.westernstateswater.org/WYSEO/WADE/v0.2/GetCatalog/GetCatalog_GetAll.php?orgid=WYSEO\" #WYOMING\n",
    "    \n",
    "}\n",
    "\n",
    "print 'done'\n"
   ]
  },
  {
   "cell_type": "markdown",
   "metadata": {},
   "source": [
    "# Append the XMLs and their states into one big list to loop over later\n",
    "\n",
    "**It takes 1-2 min to finish**"
   ]
  },
  {
   "cell_type": "code",
   "execution_count": 5,
   "metadata": {},
   "outputs": [
    {
     "name": "stdout",
     "output_type": "stream",
     "text": [
      "NDWR\n",
      "UTDWRT\n",
      "WYWDC\n",
      "CODWR\n",
      "DENR\n",
      "ADWR\n",
      "IDWR\n",
      "OREGON_WRD\n",
      "UTWRE\n",
      "OWRD\n",
      "NMOSE\n",
      "CA_DWR\n",
      "WYSEO\n",
      "KS_KDA\n",
      "NeDNR\n",
      "TCEQ\n",
      "done\n"
     ]
    }
   ],
   "source": [
    "xml_data_all={}\n",
    "\n",
    "for state, URL in States.items():\n",
    "    print state    \n",
    "    xml_data=requests.get(URL).content\n",
    "    \n",
    "    xml_data_all[state] = xml_data\n",
    "    \n",
    "print 'done'    \n",
    "# print xml_data_all"
   ]
  },
  {
   "cell_type": "markdown",
   "metadata": {},
   "source": [
    "# Call the Centeral Catalog"
   ]
  },
  {
   "cell_type": "code",
   "execution_count": 11,
   "metadata": {},
   "outputs": [
    {
     "name": "stdout",
     "output_type": "stream",
     "text": [
      "ADWR\n",
      "CA_DWR\n",
      "CODWR\n",
      "IDWR\n",
      "KS_KDA\n",
      "NeDNR\n",
      "NDWR\n",
      "NMOSE\n",
      "OWRD\n",
      "OREGON_WRD\n",
      "DENR\n",
      "UTWRE\n",
      "UTDWRT\n",
      "TCEQ\n",
      "WYWDC\n",
      "WYSEO\n",
      "done\n"
     ]
    }
   ],
   "source": [
    "\n",
    "\n",
    "Orgs=['ADWR','CA_DWR','CODWR','IDWR','KS_KDA','NeDNR','NDWR','NMOSE','OWRD','OREGON_WRD','DENR','UTWRE','UTDWRT','TCEQ','WYWDC','WYSEO']\n",
    "\n",
    "\n",
    "xml_data_all_CenteralCatalog={}\n",
    "\n",
    "for org in Orgs:\n",
    "    CenteralCatalog_URL='http://www.westernstateswater.org/CentralCatalog/WADE/v0.2/GetCatalog/GetCentralCatalog.php?orgid='+org\n",
    "    print org   \n",
    "    xml_data=requests.get(CenteralCatalog_URL).content\n",
    "    \n",
    "    xml_data_all_CenteralCatalog[org] = xml_data\n",
    "print 'done'"
   ]
  },
  {
   "cell_type": "markdown",
   "metadata": {},
   "source": [
    "# Parse the XML into Pandas data frames and save them into CSVs"
   ]
  },
  {
   "cell_type": "code",
   "execution_count": 44,
   "metadata": {},
   "outputs": [
    {
     "name": "stdout",
     "output_type": "stream",
     "text": [
      "NDWR has 31 new catalog enteries\n",
      "WYWDChas no change or updates compared to the centeral catalog\n",
      "CODWRhas no change or updates compared to the centeral catalog\n",
      "DENRhas no change or updates compared to the centeral catalog\n",
      "TCEQhas no change or updates compared to the centeral catalog\n",
      "ADWRhas no change or updates compared to the centeral catalog\n",
      "IDWRhas no change or updates compared to the centeral catalog\n",
      "OREGON_WRD has 913 new catalog enteries\n",
      "UTWRE has 4860 new catalog enteries\n",
      "OWRD has 5918 new catalog enteries\n",
      "NMOSEhas no change or updates compared to the centeral catalog\n",
      "CA_DWR has 1021 new catalog enteries\n",
      "WYSEO has 12 new catalog enteries\n",
      "KS_KDA has 210 new catalog enteries\n",
      "UTDWRT has 9 new catalog enteries\n",
      "NeDNRhas no change or updates compared to the centeral catalog\n"
     ]
    }
   ],
   "source": [
    "class XML2DataFrame:\n",
    "\n",
    "    def __init__(self, xml_data):\n",
    "        self.root = ET.XML(xml_data)\n",
    "\n",
    "    def parse_root(self, root):\n",
    "        return [self.parse_element(child) for child in iter(root)]\n",
    "\n",
    "    def parse_element(self, element, parsed=None):\n",
    "        if parsed is None:\n",
    "            parsed = dict()\n",
    "        for key in element.keys():\n",
    "            parsed[key] = element.attrib.get(key)\n",
    "        if element.text:\n",
    "            parsed[element.tag] = element.text\n",
    "        for child in list(element):\n",
    "            self.parse_element(child, parsed)\n",
    "        return parsed\n",
    "\n",
    "    def process_data(self):\n",
    "        structure_data = self.parse_root(self.root)\n",
    "        return pd.DataFrame(structure_data)\n",
    "\n",
    "big_data_frame = []\n",
    "addition_orgs={}\n",
    "Removal_orgs={}\n",
    "NoChange_orgs={}\n",
    "\n",
    "for state in xml_data_all.keys():\n",
    "#     print state\n",
    "    for org in xml_data_all_CenteralCatalog.keys():\n",
    "        if state==org:\n",
    "#             print org\n",
    "\n",
    "            xml_data = xml_data_all[state]\n",
    "            xml_data_CenteralCatalog = xml_data_all_CenteralCatalog[org]\n",
    "\n",
    "            xml2df = XML2DataFrame(xml_data)\n",
    "            xml2df_CenteralCatalog = XML2DataFrame(xml_data_CenteralCatalog)\n",
    "\n",
    "            xml_dataframe = xml2df.process_data()\n",
    "            xml_CenteralCatalog = xml2df_CenteralCatalog.process_data()\n",
    "\n",
    "            (row,col)= xml_dataframe.shape\n",
    "            # display (xml_dataframe)\n",
    "#             print state + \" web-service \" +\" has \" +str(row) + ' rows' + ' and '+  str(col) + ' columns' \n",
    "  \n",
    "            (row_CenteralCatalog,col)= xml_CenteralCatalog.shape\n",
    "            # display (xml_dataframe)\n",
    "#             print org + \" centeral catalog \" +\" has \" +str(row_CenteralCatalog) + ' rows' + ' and '+  str(col) + ' columns' \n",
    "#             print '---- \\n \\n'\n",
    "\n",
    "            if row>row_CenteralCatalog:\n",
    "                addition=row-row_CenteralCatalog\n",
    "                addition_orgs[org]=addition\n",
    "                \n",
    "                print org+' has '+str(addition)+' new catalog enteries'\n",
    "            \n",
    "            elif row_CenteralCatalog<row:\n",
    "                removals=row_CenteralCatalog-row\n",
    "                Removal_orgs[org]=removals\n",
    "\n",
    "                print org+' removed '+str(removals)+' from the the centeral catalog'\n",
    "\n",
    "            else:\n",
    "                print org+'has no change or updates compared to the centeral catalog'\n",
    "                NoChange_orgs={org}\n",
    "                \n",
    "# print 'addition_orgs'\n",
    "# print addition_orgs\n",
    "\n",
    "# print Removal_orgs \n",
    "\n",
    "# print NoChange_orgs\n",
    "            #     print row,col\n",
    "\n",
    "#             xml_dataframe.columns = xml_dataframe.columns.str.replace(\"{http://www.exchangenetwork.net/schema/WaDE/0.2}\", '')\n",
    "#             x=xml_dataframe.keys()\n",
    "\n",
    "        #     if not big_data_frame.empty:\n",
    "        #         print big_data_frame\n",
    "        #         big_data_frame.append(xml_dataframe)\n",
    "        #     else: \n",
    "        #         print xml_dataframe\n",
    "        #     big_data_frame.append(xml_dataframe)\n",
    "\n",
    "        #     total_frame = pd.concat(xml_dataframe)\n",
    "#             name=key+'.csv'\n",
    "#             xml_dataframe.to_csv(name, index = False)\n",
    "        #     print 'done'"
   ]
  },
  {
   "cell_type": "code",
   "execution_count": null,
   "metadata": {
    "collapsed": true
   },
   "outputs": [],
   "source": []
  },
  {
   "cell_type": "code",
   "execution_count": null,
   "metadata": {
    "collapsed": true
   },
   "outputs": [],
   "source": []
  },
  {
   "cell_type": "code",
   "execution_count": null,
   "metadata": {
    "collapsed": true
   },
   "outputs": [],
   "source": []
  }
 ],
 "metadata": {
  "kernelspec": {
   "display_name": "Python 2",
   "language": "python",
   "name": "python2"
  },
  "language_info": {
   "codemirror_mode": {
    "name": "ipython",
    "version": 2
   },
   "file_extension": ".py",
   "mimetype": "text/x-python",
   "name": "python",
   "nbconvert_exporter": "python",
   "pygments_lexer": "ipython2",
   "version": "2.7.15"
  }
 },
 "nbformat": 4,
 "nbformat_minor": 2
}
